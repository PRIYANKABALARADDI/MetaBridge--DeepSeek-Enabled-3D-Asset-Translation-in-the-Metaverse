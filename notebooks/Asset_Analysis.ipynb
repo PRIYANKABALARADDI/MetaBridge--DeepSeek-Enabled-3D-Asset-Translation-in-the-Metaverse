{
 "cells": [
  {
   "cell_type": "code",
   "execution_count": null,
   "id": "9ac06427-685f-469e-b0ff-e9ac04abf860",
   "metadata": {},
   "outputs": [],
   "source": [
    "import trimesh\n",
    "import numpy as np\n",
    "import json\n"
   ]
  },
  {
   "cell_type": "code",
   "execution_count": null,
   "id": "f61839f5-03ff-4094-9537-d103e8a75901",
   "metadata": {},
   "outputs": [],
   "source": [
    "def analyze_asset(file_path):\n",
    "    mesh = trimesh.load(file_path)\n",
    "    asset_data = {\n",
    "        \"vertices\": len(mesh.vertices),\n",
    "        \"faces\": len(mesh.faces),\n",
    "        \"texture\": None,  # Texture analysis (if applicable)\n",
    "        \"animations\": mesh.animation if hasattr(mesh, 'animation') else None\n",
    "    }\n",
    "    return asset_data\n",
    "\n",
    "# Example usage\n",
    "asset_metadata = analyze_asset(\"sample_asset.obj\")\n",
    "print(json.dumps(asset_metadata, indent=4))\n"
   ]
  },
  {
   "cell_type": "code",
   "execution_count": null,
   "id": "157b0725-d4e3-4fec-a4e5-de88777d7799",
   "metadata": {},
   "outputs": [],
   "source": [
    "import matplotlib.pyplot as plt\n",
    "\n",
    "mesh = trimesh.load(\"sample_asset.obj\")\n",
    "mesh.show()\n"
   ]
  }
 ],
 "metadata": {
  "kernelspec": {
   "display_name": "Python [conda env:base] *",
   "language": "python",
   "name": "conda-base-py"
  },
  "language_info": {
   "codemirror_mode": {
    "name": "ipython",
    "version": 3
   },
   "file_extension": ".py",
   "mimetype": "text/x-python",
   "name": "python",
   "nbconvert_exporter": "python",
   "pygments_lexer": "ipython3",
   "version": "3.11.7"
  }
 },
 "nbformat": 4,
 "nbformat_minor": 5
}
