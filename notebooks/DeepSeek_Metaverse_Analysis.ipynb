{
 "cells": [
  {
   "cell_type": "code",
   "execution_count": 1,
   "id": "0ca9107c-417b-45f6-b0f0-4ecf25bdfd1e",
   "metadata": {},
   "outputs": [],
   "source": [
    "# Import required libraries\n",
    "import trimesh  # For 3D asset analysis\n",
    "import numpy as np  # For numerical operations\n",
    "from PIL import Image  # For texture manipulation"
   ]
  },
  {
   "cell_type": "code",
   "execution_count": 2,
   "id": "7bf6a2be-a28f-4361-8080-122d277412b6",
   "metadata": {},
   "outputs": [
    {
     "name": "stdout",
     "output_type": "stream",
     "text": [
      "Asset Data: {'vertices': 24, 'faces': 12, 'textures': None, 'animations': None}\n"
     ]
    }
   ],
   "source": [
    "import os\n",
    "import trimesh\n",
    "\n",
    "def analyze_asset(input_file):\n",
    "    # Check if the file exists\n",
    "    if not os.path.exists(input_file):\n",
    "        raise FileNotFoundError(f\"The file '{input_file}' does not exist.\")\n",
    "    \n",
    "    # Load the 3D asset\n",
    "    try:\n",
    "        scene = trimesh.load(input_file)\n",
    "    except Exception as e:\n",
    "        raise ValueError(f\"Failed to load the file: {e}\")\n",
    "    \n",
    "    # Extract the first mesh from the scene\n",
    "    if isinstance(scene, trimesh.Scene):\n",
    "        mesh = scene.geometry[list(scene.geometry.keys())[0]]  # Get the first mesh\n",
    "    else:\n",
    "        mesh = scene  # If it's already a mesh\n",
    "    \n",
    "    # Extract metadata\n",
    "    asset_data = {\n",
    "        \"vertices\": len(mesh.vertices),  # Number of vertices\n",
    "        \"faces\": len(mesh.faces),  # Number of faces\n",
    "        \"textures\": None,  # Initialize textures as None\n",
    "        \"animations\": mesh.animation if hasattr(mesh, 'animation') else None  # Animation data\n",
    "    }\n",
    "    \n",
    "    # Handle textures for PBRMaterial\n",
    "    if hasattr(mesh.visual, 'material'):\n",
    "        material = mesh.visual.material\n",
    "        if hasattr(material, 'baseColorTexture'):\n",
    "            asset_data[\"textures\"] = material.baseColorTexture\n",
    "        elif hasattr(material, 'image'):\n",
    "            asset_data[\"textures\"] = material.image\n",
    "    \n",
    "    return asset_data\n",
    "\n",
    "# Test the function\n",
    "input_file = \"Box.glb\"  # File is in the current directory\n",
    "asset_data = analyze_asset(input_file)\n",
    "print(\"Asset Data:\", asset_data)"
   ]
  },
  {
   "cell_type": "code",
   "execution_count": 3,
   "id": "16b3613a-5197-44d9-86ff-fdb48378c999",
   "metadata": {
    "scrolled": true
   },
   "outputs": [
    {
     "name": "stdout",
     "output_type": "stream",
     "text": [
      "Mapped Attributes: {'vertices': 24, 'textures': None, 'animations': None}\n"
     ]
    }
   ],
   "source": [
    "# Function to map asset attributes to the target platform\n",
    "def map_attributes(asset_data, target_platform):\n",
    "    # Define platform-specific requirements\n",
    "    platform_requirements = {\n",
    "        \"Decentraland\": {\n",
    "            \"max_vertices\": 10000,\n",
    "            \"max_texture_resolution\": 1024,\n",
    "            \"supported_animations\": [\"glTF\"]\n",
    "        },\n",
    "        \"Roblox\": {\n",
    "            \"max_vertices\": 5000,\n",
    "            \"max_texture_resolution\": 512,\n",
    "            \"supported_animations\": [\"FBX\"]\n",
    "        }\n",
    "    }\n",
    "\n",
    "    # Map attributes based on target platform\n",
    "    mapped_attributes = {\n",
    "        \"vertices\": min(asset_data[\"vertices\"], platform_requirements[target_platform][\"max_vertices\"]),\n",
    "        \"textures\": asset_data[\"textures\"],\n",
    "        \"animations\": asset_data[\"animations\"] if asset_data[\"animations\"] in platform_requirements[target_platform][\"supported_animations\"] else None\n",
    "    }\n",
    "    return mapped_attributes\n",
    "\n",
    "# Test the function\n",
    "target_platform = \"Decentraland\"  # Replace with your target platform\n",
    "mapped_attributes = map_attributes(asset_data, target_platform)\n",
    "print(\"Mapped Attributes:\", mapped_attributes)"
   ]
  },
  {
   "cell_type": "code",
   "execution_count": 4,
   "id": "c991e149-050e-4d9d-b7d7-dab6cdc351cc",
   "metadata": {},
   "outputs": [
    {
     "name": "stdout",
     "output_type": "stream",
     "text": [
      "Optimized Asset: {'textures': <PIL.Image.Image image mode=RGB size=512x512 at 0x15C4454F3D0>, 'vertices': 10000}\n",
      "Optimized texture saved as 'optimized_texture.png'\n"
     ]
    }
   ],
   "source": [
    "from PIL import Image\n",
    "\n",
    "def optimize_asset(mapped_attributes, target_platform):\n",
    "    # Example: Reduce texture resolution\n",
    "    if mapped_attributes[\"textures\"] is not None:\n",
    "        mapped_attributes[\"textures\"] = resize_texture(mapped_attributes[\"textures\"], target_platform)\n",
    "\n",
    "    # Example: Simplify mesh (reduce vertices)\n",
    "    if mapped_attributes[\"vertices\"] > 10000:\n",
    "        mapped_attributes[\"vertices\"] = simplify_mesh(mapped_attributes[\"vertices\"])\n",
    "\n",
    "    return mapped_attributes\n",
    "\n",
    "def resize_texture(texture, target_platform):\n",
    "    # Ensure the texture is a PIL Image\n",
    "    if not isinstance(texture, Image.Image):\n",
    "        texture = Image.fromarray(texture)\n",
    "\n",
    "    # Resize based on platform requirements\n",
    "    if target_platform == \"Decentraland\":\n",
    "        new_size = (512, 512)\n",
    "    elif target_platform == \"OtherPlatform\":\n",
    "        new_size = (1024, 1024)\n",
    "    else:\n",
    "        new_size = (256, 256)\n",
    "\n",
    "    # Resize the texture\n",
    "    resized_texture = texture.resize(new_size, Image.Resampling.LANCZOS)\n",
    "    return resized_texture\n",
    "\n",
    "def simplify_mesh(vertices):\n",
    "    # Example: Reduce the number of vertices by half\n",
    "    return vertices // 2\n",
    "\n",
    "# Test the function\n",
    "# Create a dummy texture if no file is available\n",
    "dummy_texture = Image.new(\"RGB\", (1024, 1024), color=\"blue\")  # Create a 1024x1024 blue image\n",
    "\n",
    "mapped_attributes = {\n",
    "    \"textures\": dummy_texture,  # Use the dummy texture\n",
    "    \"vertices\": 20000\n",
    "}\n",
    "target_platform = \"Decentraland\"\n",
    "\n",
    "# Optimize the asset\n",
    "optimized_asset = optimize_asset(mapped_attributes, target_platform)\n",
    "print(\"Optimized Asset:\", optimized_asset)\n",
    "\n",
    "# Optionally, save the optimized texture to a file\n",
    "optimized_asset[\"textures\"].save(\"optimized_texture.png\")\n",
    "print(\"Optimized texture saved as 'optimized_texture.png'\")"
   ]
  },
  {
   "cell_type": "code",
   "execution_count": 5,
   "id": "c8535b57-d993-4063-98df-7ce2654faaee",
   "metadata": {},
   "outputs": [
    {
     "name": "stdout",
     "output_type": "stream",
     "text": [
      "Generated output_Decentraland.glb for Decentraland\n",
      "Output File: output_Decentraland.glb\n"
     ]
    }
   ],
   "source": [
    "# Function to generate the output file\n",
    "def generate_output(optimized_asset, target_platform):\n",
    "    # Generate output file based on target platform\n",
    "    output_file = f\"output_{target_platform}.glb\"\n",
    "    \n",
    "    # Placeholder for file generation logic\n",
    "    print(f\"Generated {output_file} for {target_platform}\")\n",
    "    return output_file\n",
    "\n",
    "# Test the function\n",
    "output_file = generate_output(optimized_asset, target_platform)\n",
    "print(\"Output File:\", output_file)"
   ]
  },
  {
   "cell_type": "code",
   "execution_count": 6,
   "id": "aba3ec71-bbbd-41ab-abb0-7ad13770a260",
   "metadata": {},
   "outputs": [
    {
     "name": "stdout",
     "output_type": "stream",
     "text": [
      "Generated output_Decentraland.glb for Decentraland\n",
      "Output file generated: output_Decentraland.glb\n"
     ]
    }
   ],
   "source": [
    "# Main function to tie everything together\n",
    "def main():\n",
    "    # Step 1: Input asset and target platform\n",
    "    input_file = \"input_asset.glb\"  # Replace with your file path\n",
    "    target_platform = \"Decentraland\"  # Replace with your target platform\n",
    "\n",
    "    # Step 2: Analyze asset\n",
    "    asset_data = analyze_asset(input_file)\n",
    "\n",
    "    # Step 3: Map attributes\n",
    "    mapped_attributes = map_attributes(asset_data, target_platform)\n",
    "\n",
    "    # Step 4: Optimize asset\n",
    "    optimized_asset = optimize_asset(mapped_attributes, target_platform)\n",
    "\n",
    "    # Step 5: Generate output\n",
    "    output_file = generate_output(optimized_asset, target_platform)\n",
    "    print(f\"Output file generated: {output_file}\")\n",
    "\n",
    "# Run the main function\n",
    "if __name__ == \"__main__\":\n",
    "    main()"
   ]
  },
  {
   "cell_type": "code",
   "execution_count": null,
   "id": "f39fb382-4e28-4671-b5d3-5f111fb94a75",
   "metadata": {},
   "outputs": [],
   "source": []
  }
 ],
 "metadata": {
  "kernelspec": {
   "display_name": "Python [conda env:base] *",
   "language": "python",
   "name": "conda-base-py"
  },
  "language_info": {
   "codemirror_mode": {
    "name": "ipython",
    "version": 3
   },
   "file_extension": ".py",
   "mimetype": "text/x-python",
   "name": "python",
   "nbconvert_exporter": "python",
   "pygments_lexer": "ipython3",
   "version": "3.11.7"
  }
 },
 "nbformat": 4,
 "nbformat_minor": 5
}
